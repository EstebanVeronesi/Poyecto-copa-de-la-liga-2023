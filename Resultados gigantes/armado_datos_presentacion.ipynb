{
 "cells": [
  {
   "cell_type": "code",
   "execution_count": 117,
   "metadata": {},
   "outputs": [],
   "source": [
    "import pandas as pd\n",
    "import pickle as pk"
   ]
  },
  {
   "cell_type": "code",
   "execution_count": 118,
   "metadata": {},
   "outputs": [],
   "source": [
    "tabla_A_1 = pk.load(open('Datos Presentacion\\dict_table_A_1','rb'))\n",
    "tabla_B_1 = pk.load(open('Datos Presentacion\\dict_table_B_1','rb'))\n",
    "tabla_A_2 = pk.load(open('Datos Presentacion\\dict_table_A_2','rb'))\n",
    "tabla_B_2 = pk.load(open('Datos Presentacion\\dict_table_B_2','rb'))\n",
    "tabla_A_3 = pk.load(open('Datos Presentacion\\dict_table_A_3','rb'))\n",
    "tabla_B_3 = pk.load(open('Datos Presentacion\\dict_table_B_3','rb'))\n",
    "tabla_A_4 = pk.load(open('Datos Presentacion\\dict_table_A_4','rb'))\n",
    "tabla_B_4 = pk.load(open('Datos Presentacion\\dict_table_B_4','rb'))\n",
    "tabla_A_5 = pk.load(open('Datos Presentacion\\dict_table_A_5','rb'))\n",
    "tabla_B_5 = pk.load(open('Datos Presentacion\\dict_table_B_5','rb'))\n",
    "tabla_A_6 = pk.load(open('Datos Presentacion\\dict_table_A_6','rb'))\n",
    "tabla_B_6 = pk.load(open('Datos Presentacion\\dict_table_B_6','rb'))\n",
    "tabla_A_7 = pk.load(open('Datos Presentacion\\dict_table_A_7','rb'))\n",
    "tabla_B_7 = pk.load(open('Datos Presentacion\\dict_table_B_7','rb'))\n",
    "tabla_A_8 = pk.load(open('Datos Presentacion\\dict_table_A_8','rb'))\n",
    "tabla_B_8 = pk.load(open('Datos Presentacion\\dict_table_B_8','rb'))\n",
    "tabla_A_9 = pk.load(open('Datos Presentacion\\dict_table_A_9','rb'))\n",
    "tabla_B_9 = pk.load(open('Datos Presentacion\\dict_table_B_9','rb'))\n",
    "tabla_A_10 = pk.load(open('Datos Presentacion\\dict_table_A_10','rb'))\n",
    "tabla_B_10 = pk.load(open('Datos Presentacion\\dict_table_B_10','rb'))\n",
    "final_1 = pd.read_csv('Datos Presentacion\\dfinal_1.csv', index_col=0)\n",
    "final_2 = pd.read_csv('Datos Presentacion\\dfinal_2.csv', index_col=0)\n",
    "final_3 = pd.read_csv('Datos Presentacion\\dfinal_3.csv', index_col=0)\n",
    "final_4 = pd.read_csv('Datos Presentacion\\dfinal_4.csv', index_col=0)\n",
    "final_5 = pd.read_csv('Datos Presentacion\\dfinal_5.csv', index_col=0)\n",
    "final_6 = pd.read_csv('Datos Presentacion\\dfinal_6.csv', index_col=0)\n",
    "final_7 = pd.read_csv('Datos Presentacion\\dfinal_7.csv', index_col=0)\n",
    "final_8 = pd.read_csv('Datos Presentacion\\dfinal_8.csv', index_col=0)\n",
    "final_9 = pd.read_csv('Datos Presentacion\\dfinal_9.csv', index_col=0)\n",
    "final_10 = pd.read_csv('Datos Presentacion\\dfinal_10.csv', index_col=0)"
   ]
  },
  {
   "cell_type": "code",
   "execution_count": 119,
   "metadata": {},
   "outputs": [],
   "source": [
    "df_tablas = pd.concat((tabla_A_1, tabla_B_1, tabla_A_2, tabla_B_2,tabla_A_3, tabla_B_3,tabla_A_4, tabla_B_4,tabla_A_5, tabla_B_5,tabla_A_6, tabla_B_6,tabla_A_7, tabla_B_7,tabla_A_8, tabla_B_8,tabla_A_9, tabla_B_9,tabla_A_10, tabla_B_10,), ignore_index=True)"
   ]
  },
  {
   "cell_type": "code",
   "execution_count": 120,
   "metadata": {},
   "outputs": [
    {
     "data": {
      "text/html": [
       "<div>\n",
       "<style scoped>\n",
       "    .dataframe tbody tr th:only-of-type {\n",
       "        vertical-align: middle;\n",
       "    }\n",
       "\n",
       "    .dataframe tbody tr th {\n",
       "        vertical-align: top;\n",
       "    }\n",
       "\n",
       "    .dataframe thead th {\n",
       "        text-align: right;\n",
       "    }\n",
       "</style>\n",
       "<table border=\"1\" class=\"dataframe\">\n",
       "  <thead>\n",
       "    <tr style=\"text-align: right;\">\n",
       "      <th></th>\n",
       "      <th>Equipo</th>\n",
       "      <th>Puntos</th>\n",
       "    </tr>\n",
       "  </thead>\n",
       "  <tbody>\n",
       "    <tr>\n",
       "      <th>0</th>\n",
       "      <td>Instituto</td>\n",
       "      <td>25</td>\n",
       "    </tr>\n",
       "    <tr>\n",
       "      <th>1</th>\n",
       "      <td>Talleres (C)</td>\n",
       "      <td>24</td>\n",
       "    </tr>\n",
       "    <tr>\n",
       "      <th>2</th>\n",
       "      <td>Argentinos Juniors</td>\n",
       "      <td>23</td>\n",
       "    </tr>\n",
       "    <tr>\n",
       "      <th>3</th>\n",
       "      <td>Arsenal</td>\n",
       "      <td>22</td>\n",
       "    </tr>\n",
       "    <tr>\n",
       "      <th>4</th>\n",
       "      <td>Huracán</td>\n",
       "      <td>22</td>\n",
       "    </tr>\n",
       "    <tr>\n",
       "      <th>...</th>\n",
       "      <td>...</td>\n",
       "      <td>...</td>\n",
       "    </tr>\n",
       "    <tr>\n",
       "      <th>275</th>\n",
       "      <td>Sarmiento (J)</td>\n",
       "      <td>14</td>\n",
       "    </tr>\n",
       "    <tr>\n",
       "      <th>276</th>\n",
       "      <td>Central Córdoba (SdE)</td>\n",
       "      <td>12</td>\n",
       "    </tr>\n",
       "    <tr>\n",
       "      <th>277</th>\n",
       "      <td>Newell's Old Boys</td>\n",
       "      <td>12</td>\n",
       "    </tr>\n",
       "    <tr>\n",
       "      <th>278</th>\n",
       "      <td>Tigre</td>\n",
       "      <td>12</td>\n",
       "    </tr>\n",
       "    <tr>\n",
       "      <th>279</th>\n",
       "      <td>Unión</td>\n",
       "      <td>11</td>\n",
       "    </tr>\n",
       "  </tbody>\n",
       "</table>\n",
       "<p>280 rows × 2 columns</p>\n",
       "</div>"
      ],
      "text/plain": [
       "                    Equipo  Puntos\n",
       "0                Instituto      25\n",
       "1             Talleres (C)      24\n",
       "2       Argentinos Juniors      23\n",
       "3                  Arsenal      22\n",
       "4                  Huracán      22\n",
       "..                     ...     ...\n",
       "275          Sarmiento (J)      14\n",
       "276  Central Córdoba (SdE)      12\n",
       "277      Newell's Old Boys      12\n",
       "278                  Tigre      12\n",
       "279                  Unión      11\n",
       "\n",
       "[280 rows x 2 columns]"
      ]
     },
     "execution_count": 120,
     "metadata": {},
     "output_type": "execute_result"
    }
   ],
   "source": [
    "df_tablas"
   ]
  },
  {
   "cell_type": "code",
   "execution_count": 121,
   "metadata": {},
   "outputs": [],
   "source": [
    "df_tablas_promedio = df_tablas.groupby('Equipo').mean()"
   ]
  },
  {
   "cell_type": "code",
   "execution_count": 122,
   "metadata": {},
   "outputs": [],
   "source": [
    "df_tablas_promedio = df_tablas_promedio.sort_values('Puntos', ascending=False)"
   ]
  },
  {
   "cell_type": "code",
   "execution_count": 123,
   "metadata": {},
   "outputs": [],
   "source": [
    "df_tablas_promedio.to_csv('df_tablas_promedio.csv')"
   ]
  },
  {
   "cell_type": "code",
   "execution_count": 124,
   "metadata": {},
   "outputs": [],
   "source": [
    "df_finales = pd.concat((final_1,final_2,final_3,final_4,final_5,final_6,final_7,final_8,final_9,final_10), ignore_index=True)"
   ]
  },
  {
   "cell_type": "code",
   "execution_count": 125,
   "metadata": {},
   "outputs": [
    {
     "name": "stdout",
     "output_type": "stream",
     "text": [
      "              local         visitante          Ganador\n",
      "0      Talleres (C)       Racing Club      Racing Club\n",
      "1        iver Plate   Rosario Central  Rosario Central\n",
      "2       River Plate      Boca Juniors      River Plate\n",
      "3      Boca Juniors   Rosario Central  Rosario Central\n",
      "4   Vélez Sarsfield       River Plate      River Plate\n",
      "5   Rosario Central  Atlético Tucumán  Rosario Central\n",
      "6       River Plate   Vélez Sarsfield      River Plate\n",
      "7             Lanús       Racing Club      Racing Club\n",
      "8         Instituto  Estudiantes (LP)        Instituto\n",
      "9  Estudiantes (LP)      Boca Juniors     Boca Juniors\n"
     ]
    }
   ],
   "source": [
    "print(df_finales)"
   ]
  },
  {
   "cell_type": "code",
   "execution_count": 126,
   "metadata": {},
   "outputs": [
    {
     "name": "stdout",
     "output_type": "stream",
     "text": [
      "              local         visitante          Ganador\n",
      "0      Talleres (C)       Racing Club      Racing Club\n",
      "1        iver Plate   Rosario Central  Rosario Central\n",
      "2       River Plate      Boca Juniors      River Plate\n",
      "3      Boca Juniors   Rosario Central  Rosario Central\n",
      "4   Vélez Sarsfield       River Plate      River Plate\n",
      "5   Rosario Central  Atlético Tucumán  Rosario Central\n",
      "6       River Plate   Vélez Sarsfield      River Plate\n",
      "7             Lanús       Racing Club      Racing Club\n",
      "8         Instituto  Estudiantes (LP)        Instituto\n",
      "9  Estudiantes (LP)      Boca Juniors     Boca Juniors\n"
     ]
    }
   ],
   "source": [
    "print(df_finales)"
   ]
  },
  {
   "cell_type": "markdown",
   "metadata": {},
   "source": [
    "Df campeones"
   ]
  },
  {
   "cell_type": "code",
   "execution_count": 106,
   "metadata": {},
   "outputs": [],
   "source": [
    "df_campeones = df_finales.drop(['local', 'visitante'], axis=1)"
   ]
  },
  {
   "cell_type": "code",
   "execution_count": 108,
   "metadata": {},
   "outputs": [],
   "source": [
    "df_campeones = df_campeones.assign(Cantidad=1)"
   ]
  },
  {
   "cell_type": "code",
   "execution_count": 113,
   "metadata": {},
   "outputs": [],
   "source": [
    "df_campeones = df_campeones.groupby('Ganador').sum()"
   ]
  },
  {
   "cell_type": "code",
   "execution_count": 115,
   "metadata": {},
   "outputs": [],
   "source": [
    "df_campeones.sort_values('Cantidad', ascending=False, inplace=True)"
   ]
  },
  {
   "cell_type": "code",
   "execution_count": 116,
   "metadata": {},
   "outputs": [],
   "source": [
    "df_campeones.to_csv('Campeones.csv')"
   ]
  }
 ],
 "metadata": {
  "kernelspec": {
   "display_name": "Python 3",
   "language": "python",
   "name": "python3"
  },
  "language_info": {
   "codemirror_mode": {
    "name": "ipython",
    "version": 3
   },
   "file_extension": ".py",
   "mimetype": "text/x-python",
   "name": "python",
   "nbconvert_exporter": "python",
   "pygments_lexer": "ipython3",
   "version": "3.10.5"
  },
  "orig_nbformat": 4
 },
 "nbformat": 4,
 "nbformat_minor": 2
}
