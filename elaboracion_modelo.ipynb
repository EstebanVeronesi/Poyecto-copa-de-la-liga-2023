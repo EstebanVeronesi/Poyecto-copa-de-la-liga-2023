{
 "cells": [
  {
   "cell_type": "code",
   "execution_count": 1,
   "metadata": {},
   "outputs": [],
   "source": [
    "import pandas as pd\n",
    "import pickle as pk\n",
    "from scipy.stats import poisson\n",
    "import random\n",
    "import csv\n"
   ]
  },
  {
   "cell_type": "code",
   "execution_count": 2,
   "metadata": {},
   "outputs": [],
   "source": [
    "dict_table = pk.load(open('Base de datos\\dict_table','rb'))\n",
    "df_historico = pd.read_csv('Base de datos\\clean_historico_partidos.csv')\n",
    "df_fixture = pd.read_csv('Base de datos\\main_fixture_copa_de_la_liga_2023.csv')\n"
   ]
  },
  {
   "cell_type": "markdown",
   "metadata": {},
   "source": [
    "Calcular Team Strength"
   ]
  },
  {
   "cell_type": "code",
   "execution_count": 3,
   "metadata": {},
   "outputs": [],
   "source": [
    "#Dividir df en df_home y df_away\n",
    "df_historico\n",
    "df_local = df_historico[['local','gol_local','gol_visitante']]\n",
    "df_visitante = df_historico[['visitante','gol_visitante','gol_local']]"
   ]
  },
  {
   "cell_type": "code",
   "execution_count": 4,
   "metadata": {},
   "outputs": [],
   "source": [
    "#Renombrar columnas\n",
    "df_local = df_local.rename(columns={'local':'equipo','gol_local':'goles_anotados','gol_visitante':'goles_recibidos'})\n",
    "df_visitante = df_visitante.rename(columns={'visitante':'equipo','gol_local':'goles_recibidos','gol_visitante':'goles_anotados'})"
   ]
  },
  {
   "cell_type": "code",
   "execution_count": 5,
   "metadata": {},
   "outputs": [],
   "source": [
    "df_local_fuerza = df_local.groupby('equipo').mean()\n",
    "df_visitante_fuerza = df_visitante.groupby('equipo').mean()"
   ]
  },
  {
   "cell_type": "code",
   "execution_count": 6,
   "metadata": {},
   "outputs": [],
   "source": [
    "#Concatenar df_local y df_visitante, hacer group por team y calcular promedio\n",
    "df_equipo_fuerza = pd.concat([df_local, df_visitante], ignore_index=True).groupby('equipo').mean()"
   ]
  },
  {
   "cell_type": "code",
   "execution_count": 7,
   "metadata": {},
   "outputs": [],
   "source": [
    "df_equipo_fuerza = df_equipo_fuerza.sort_values('goles_anotados', ascending=False)"
   ]
  },
  {
   "cell_type": "markdown",
   "metadata": {},
   "source": [
    "Simulacion Automatizada\n"
   ]
  },
  {
   "cell_type": "code",
   "execution_count": 8,
   "metadata": {},
   "outputs": [],
   "source": [
    "df_campeones = pd.DataFrame()\n",
    "\n",
    "df_campeones['local'] = None\n",
    "df_campeones['visitante'] = None\n",
    "df_campeones['campeon'] = None"
   ]
  },
  {
   "cell_type": "code",
   "execution_count": 9,
   "metadata": {},
   "outputs": [],
   "source": [
    "df_campeones.to_csv('finales.csv', encoding='utf-8')"
   ]
  },
  {
   "cell_type": "code",
   "execution_count": 33,
   "metadata": {},
   "outputs": [
    {
     "name": "stdout",
     "output_type": "stream",
     "text": [
      "            local resultado           visitante  fecha             Ganador\n",
      "202  Boca Juniors         -  Defensa y Justicia  final  Defensa y Justicia\n"
     ]
    }
   ],
   "source": [
    "\n",
    "for i in range(500):\n",
    "    \n",
    "    \n",
    "    #Carga de tablas\n",
    "    dict_table = pk.load(open('Base de datos\\dict_table','rb'))\n",
    "\n",
    "    #Prediccion de puntos\n",
    "    def simular_goles_en_partido(lambda_equipo):\n",
    "        # generar un numero aleatorio entre 0 y 1\n",
    "        rand_num = random.random()\n",
    "        # inicializar variables en 0\n",
    "        probabilidad_acumulada = num_goles = 0\n",
    "        while True:\n",
    "            # sumar la posibilidad de meter num_goles a probabilidad_acumulada\n",
    "            probabilidad_acumulada += poisson.pmf(num_goles, lambda_equipo)\n",
    "            # si probabilidad_acumulada supera a rand_num, devolver la cantidad de goles\n",
    "            if probabilidad_acumulada >= rand_num:\n",
    "                return num_goles\n",
    "            # sino, aumentar la cantidad de goles e intentar de nuevo\n",
    "            num_goles += 1\n",
    "         \n",
    "    #Predecir puntos\n",
    "    def predecir_puntos(local, visitante, tabla_local, tabla_visitante):\n",
    "        if local not in tabla_local.index or visitante not in tabla_visitante.index:\n",
    "            assert False\n",
    "\n",
    "        # goles de local = ( anotados locales + recibidos visitantes ) / 2\n",
    "        goles_local  = simular_goles_en_partido(tabla_local.at[local,'goles_anotados'])\n",
    "        goles_local += simular_goles_en_partido(tabla_visitante.at[visitante, 'goles_recibidos'])\n",
    "        goles_local  = round(goles_local / 2)\n",
    "\n",
    "        # goles de visitante = ( anotados visitantes + recibidos locales ) / 2\n",
    "        goles_visitante  = simular_goles_en_partido(tabla_visitante.at[visitante,'goles_anotados'])\n",
    "        goles_visitante += simular_goles_en_partido(tabla_local.at[local,'goles_recibidos'])\n",
    "        goles_visitante  = round(goles_visitante / 2)\n",
    "          \n",
    "        #Almacenamos los resultados  \n",
    "        with open ('resultados.csv', 'a', newline='', encoding='utf-8') as archivo_csv:\n",
    "            fieldnames = ['local', 'gol_local', 'visitante', 'gol_visitante']\n",
    "            writter = csv.DictWriter(archivo_csv, fieldnames=fieldnames)\n",
    "            writter.writerow({'local': local, 'gol_local': goles_local, 'visitante': visitante, 'gol_visitante': goles_visitante}) \n",
    "          \n",
    "        if goles_local == goles_visitante:\n",
    "            #print(f'{local}: {goles_local} == {visitante}: {goles_visitante}')\n",
    "            return (1, 1)\n",
    "        elif goles_local > goles_visitante:\n",
    "            #print(f'{local}: {goles_local} -> {visitante}: {goles_visitante}')\n",
    "            return (3, 0)\n",
    "        else:\n",
    "            #print(f'{local}: {goles_local} <- {visitante}: {goles_visitante}')\n",
    "            return (0, 3)\n",
    "\n",
    "    #Predecir puntos local/visitante\n",
    "    def predecir_puntos_locvis(local, visitante):\n",
    "        return predecir_puntos(local, visitante, df_local_fuerza, df_visitante_fuerza)\n",
    "\n",
    "    #Predecir puntos neutro\n",
    "    def predecir_puntos_neutro(local, visitante):\n",
    "        # evitar empates\n",
    "        puntos_local, puntos_visitantes = 1, 1\n",
    "        while puntos_local == 1 and  puntos_visitantes == 1:\n",
    "            puntos_local, puntos_visitantes = predecir_puntos(local, visitante, df_equipo_fuerza, df_equipo_fuerza)\n",
    "        return puntos_local, puntos_visitantes\n",
    "    \n",
    "    #Fixture fase de grupos\n",
    "    df_fixture_grupos = df_fixture[:196].copy()\n",
    "    df_fixture_cuartos = df_fixture[196:200].copy()\n",
    "    df_fixture_semis = df_fixture[200:202].copy()\n",
    "    df_fixture_final = df_fixture[202:].copy()\n",
    "    \n",
    "    #Correr todos los partidos de la fase de grupos y actualizar las tablas de cada grupo\n",
    "    for grupo in dict_table:\n",
    "        equipos_en_grupos = dict_table[grupo]['Equipo'].values\n",
    "        df_fixture_2 = df_fixture_grupos[df_fixture_grupos['local'].isin(equipos_en_grupos)]      \n",
    "        \n",
    "        for index, row in df_fixture_2.iterrows():\n",
    "            local, visitante = row['local'], row['visitante']\n",
    "            puntos_local, puntos_visitantes = predecir_puntos_locvis(local, visitante)\n",
    "            dict_table[grupo].loc[dict_table[grupo]['Equipo'] == local, 'Puntos'] += puntos_local\n",
    "            dict_table[grupo].loc[dict_table[grupo]['Equipo'] == visitante, 'Puntos'] += puntos_visitantes \n",
    "            \n",
    "    dict_table['Grupo A'] = dict_table['Grupo A'].sort_values('Puntos', ascending=False).reset_index()\n",
    "    dict_table['Grupo B'] = dict_table['Grupo B'].sort_values('Puntos', ascending=False).reset_index()\n",
    "    dict_table['Grupo A'] = dict_table['Grupo A'][['Equipo', 'Puntos']]\n",
    "    dict_table['Grupo B'] = dict_table['Grupo B'][['Equipo', 'Puntos']]\n",
    "    dict_table['Grupo A'] = dict_table['Grupo A'].round(0)\n",
    "    dict_table['Grupo B'] = dict_table['Grupo B'].round(0)\n",
    "\n",
    "    #Mostramos tablas\n",
    "    dict_table_A = dict_table['Grupo A']\n",
    "    dict_table_B = dict_table['Grupo B']\n",
    "    \n",
    "    #Almacenamos los datos\n",
    "    with open(f\"Resultados gigantes\\dict_table_A_{i}\",\"wb\") as output:\n",
    "        pk.dump(dict_table_A, output)\n",
    "    \n",
    "    with open(f\"Resultados gigantes\\dict_table_B_{i}\",\"wb\") as output:\n",
    "        pk.dump(dict_table_B, output)\n",
    "    \n",
    "    #Asignamos 4tos\n",
    "    for grupo in dict_table:\n",
    "        primero_grupo = dict_table[grupo].loc[0, 'Equipo']\n",
    "        segundo_grupo = dict_table[grupo].loc[2, 'Equipo']\n",
    "        tercero_grupo = dict_table[grupo].loc[2, 'Equipo']\n",
    "        cuarto_grupo = dict_table[grupo].loc[3, 'Equipo']\n",
    "        df_fixture_cuartos.replace({f'1{grupo}':primero_grupo,f'2{grupo}':segundo_grupo, f'3{grupo}':tercero_grupo, f'4{grupo}':cuarto_grupo}, inplace=True)\n",
    "    \n",
    "    df_fixture_cuartos['Ganador'] = '?'\n",
    "    \n",
    "    #Ganador llave\n",
    "    def ganador_llave(df_fixture_clasificados_cuartos):\n",
    "        for index, row in df_fixture_clasificados_cuartos.iterrows():\n",
    "            local, visitante = row['local'], row['visitante']\n",
    "            puntos_local, puntos_visitantes = predecir_puntos_neutro(local, visitante)\n",
    "            if puntos_local > puntos_visitantes:\n",
    "                ganador = local\n",
    "            else:\n",
    "                ganador = visitante\n",
    "            df_fixture_clasificados_cuartos.loc[index,'Ganador'] = ganador\n",
    "            \n",
    "            if ['final' in df_fixture_clasificados_cuartos['fecha'].values] == [True]:\n",
    "                with open ('finales.csv', 'a', newline='', encoding='utf-8') as archivo_csv:\n",
    "                    fieldnames = ['local', 'visitante', 'campeon']\n",
    "                    writter = csv.DictWriter(archivo_csv, fieldnames=fieldnames)\n",
    "                    writter.writerow({'local': local, 'visitante': visitante, 'campeon': ganador})\n",
    "        return df_fixture_clasificados_cuartos\n",
    "    \n",
    "    #Ganador cuartos\n",
    "    ganador_llave(df_fixture_cuartos)\n",
    "    \n",
    "    #Actualizar tabla\n",
    "    def actualizar_tabla(df_fixture_ronda_1,df_fixture_ronda_2):\n",
    "        for index, row in df_fixture_ronda_1.iterrows():\n",
    "            ganador = df_fixture_ronda_1.loc[index,'Ganador']\n",
    "            partido = df_fixture_ronda_1.loc[index, 'fecha']\n",
    "            df_fixture_ronda_2.replace({f'ganador {partido}': ganador}, inplace=True)      \n",
    "        df_fixture_ronda_2['Ganador'] = '?'\n",
    "        return df_fixture_ronda_2    \n",
    "    \n",
    "    #Actualizar semis\n",
    "    actualizar_tabla(df_fixture_cuartos,df_fixture_semis)\n",
    "    \n",
    "    #Ganador semis\n",
    "    ganador_llave(df_fixture_semis)\n",
    "    \n",
    "    #Actualizar final\n",
    "    actualizar_tabla(df_fixture_semis,df_fixture_final)\n",
    "    \n",
    "    #Ganador final\n",
    "    campeon = ganador_llave(df_fixture_final)\n",
    "    \n",
    "print(campeon)"
   ]
  }
 ],
 "metadata": {
  "kernelspec": {
   "display_name": "Python 3",
   "language": "python",
   "name": "python3"
  },
  "language_info": {
   "codemirror_mode": {
    "name": "ipython",
    "version": 3
   },
   "file_extension": ".py",
   "mimetype": "text/x-python",
   "name": "python",
   "nbconvert_exporter": "python",
   "pygments_lexer": "ipython3",
   "version": "3.10.5"
  },
  "orig_nbformat": 4
 },
 "nbformat": 4,
 "nbformat_minor": 2
}
