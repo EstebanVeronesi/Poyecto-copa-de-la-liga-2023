{
 "cells": [
  {
   "cell_type": "code",
   "execution_count": 3,
   "metadata": {},
   "outputs": [],
   "source": [
    "from bs4 import BeautifulSoup as bf\n",
    "import requests as rq\n",
    "import pandas as pd\n",
    "import re\n",
    "import csv"
   ]
  },
  {
   "cell_type": "markdown",
   "metadata": {},
   "source": [
    "Hacemos web scraping Copa de la liga historicos"
   ]
  },
  {
   "cell_type": "code",
   "execution_count": 39,
   "metadata": {},
   "outputs": [],
   "source": [
    "index = [\"regular_a_1\",\"regular_a_2\",\"regular_a_3\",\"regular_a_4\",\"regular_a_5\",\"regular_a_6\",\"regular_a_7\",\"regular_a_8\",\"regular_a_9\",\"regular_a_10\",\"regular_a_11\",\"regular_a_12\",\"regular_a_13\",\"regular_a_14\",\"cuartos_a_1\",\"semifinal_a_1\",\"final_a_1\"]\n",
    "\n",
    "def get_matches(index):\n",
    "    web = f\"https://argentina.as.com/resultados/futbol/copa_liga_argentina/2022/jornada/{index}/\"\n",
    "    response = rq.get(web)\n",
    "    content = response.text\n",
    "    soup = bf(content, 'lxml')\n",
    "    matches = soup.findAll('li',class_=\"list-resultado\")\n",
    "    home = []\n",
    "    score = []\n",
    "    away = []\n",
    "\n",
    "    for match in matches:\n",
    "        home.append(match.find('div', class_='equipo-local').get_text(strip=True))\n",
    "        score.append(re.sub(r'\\n', ' ', match.find('a', class_='resultado').get_text(strip=True)))\n",
    "        away.append(match.find('div', class_='equipo-visitante').get_text(strip=True))\n",
    "\n",
    "\n",
    "    dict_clp = {'local':home,'resultado':score,'visitante':away}\n",
    "    df_clp = pd.DataFrame(dict_clp)\n",
    "    df_clp['fecha'] = index\n",
    "    return df_clp\n",
    "\n",
    "clp_2022 = [get_matches(ind) for ind in index]\n",
    "\n"
   ]
  },
  {
   "cell_type": "code",
   "execution_count": 55,
   "metadata": {},
   "outputs": [],
   "source": [
    "index = [\"regular_a_1\",\"regular_a_2\",\"regular_a_3\",\"regular_a_4\",\"regular_a_5\",\"regular_a_6\",\"regular_a_7\",\"regular_a_8\",\"regular_a_9\",\"regular_a_10\",\"regular_a_11\",\"regular_a_12\",\"regular_a_13\",\"cuartos_a_1\",\"semifinal_a_1\",\"final_a_1\"]\n",
    "\n",
    "\n",
    "def get_matches(index):\n",
    "    web = f\"https://argentina.as.com/resultados/futbol/copa_liga_argentina/2021/jornada/{index}/\"\n",
    "    response = rq.get(web)\n",
    "    content = response.text\n",
    "    soup = bf(content, 'lxml')\n",
    "    matches = soup.findAll('li',class_=\"list-resultado\")\n",
    "    home = []\n",
    "    score = []\n",
    "    away = []\n",
    "\n",
    "    for match in matches:\n",
    "        home.append(match.find('div', class_='equipo-local').get_text(strip=True))\n",
    "        score.append(re.sub(r'\\n', ' ', match.find('a', class_='resultado').get_text(strip=True)))\n",
    "        away.append(match.find('div', class_='equipo-visitante').get_text(strip=True))\n",
    "\n",
    "\n",
    "    dict_clp2 = {'local':home,'resultado':score,'visitante':away}\n",
    "    df_clp2 = pd.DataFrame(dict_clp2)\n",
    "    df_clp2['fecha'] = index\n",
    "    return df_clp2\n",
    "clp_2021 = [get_matches(ind) for ind in index]\n"
   ]
  },
  {
   "cell_type": "code",
   "execution_count": 56,
   "metadata": {},
   "outputs": [],
   "source": [
    "df_clp = pd.concat(clp_2020s, ignore_index=True)\n",
    "df_clp.to_csv('historico_copa_de_la_liga_datasss.csv', index=False, encoding=\"UTF-8\")"
   ]
  },
  {
   "cell_type": "markdown",
   "metadata": {},
   "source": [
    "Web scraping Fixture Copa de la liga 2023"
   ]
  },
  {
   "cell_type": "code",
   "execution_count": 34,
   "metadata": {},
   "outputs": [],
   "source": [
    "index = [\"regular_a_1\",\"regular_a_2\",\"regular_a_3\",\"regular_a_4\",\"regular_a_5\",\"regular_a_6\",\"regular_a_7\",\"regular_a_8\",\"regular_a_9\",\"regular_a_10\",\"regular_a_11\",\"regular_a_12\",\"regular_a_13\",\"regular_a_14\"]\n",
    "\n",
    "def get_matches(index):\n",
    "    web = f\"https://argentina.as.com/resultados/futbol/copa_liga_argentina/2023/jornada/{index}/\"\n",
    "    response = rq.get(web)\n",
    "    content = response.text\n",
    "    soup = bf(content, 'lxml')\n",
    "    matches = soup.findAll('li',class_=\"list-resultado\")\n",
    "    home = []\n",
    "    score = []\n",
    "    away = []\n",
    "\n",
    "    for match in matches:\n",
    "        home.append(match.find('div', class_='equipo-local').get_text(strip=True))\n",
    "        score.append(match.find('span', class_='resultado').get_text(strip=True))\n",
    "        away.append(match.find('div', class_='equipo-visitante').get_text(strip=True))\n",
    "\n",
    "\n",
    "    dict_clp3 = {'local':home,'resultado':score,'visitante':away}\n",
    "    df_clp3 = pd.DataFrame(dict_clp3)\n",
    "    df_clp3['fecha'] = index\n",
    "    return df_clp3\n",
    "clp_2023 = [get_matches(ind) for ind in index]\n"
   ]
  },
  {
   "cell_type": "code",
   "execution_count": 3,
   "metadata": {},
   "outputs": [],
   "source": [
    "df_clp3 = pd.concat(clp_2023, ignore_index=True)\n",
    "df_clp3.to_csv('fixture_copa_de_la_liga_2023.csv', index=False)"
   ]
  }
 ],
 "metadata": {
  "kernelspec": {
   "display_name": "Python 3",
   "language": "python",
   "name": "python3"
  },
  "language_info": {
   "codemirror_mode": {
    "name": "ipython",
    "version": 3
   },
   "file_extension": ".py",
   "mimetype": "text/x-python",
   "name": "python",
   "nbconvert_exporter": "python",
   "pygments_lexer": "ipython3",
   "version": "3.10.5"
  },
  "orig_nbformat": 4
 },
 "nbformat": 4,
 "nbformat_minor": 2
}
