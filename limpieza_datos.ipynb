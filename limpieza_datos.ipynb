{
 "cells": [
  {
   "cell_type": "code",
   "execution_count": 1,
   "metadata": {},
   "outputs": [],
   "source": [
    "import pandas as pd"
   ]
  },
  {
   "cell_type": "markdown",
   "metadata": {},
   "source": [
    "Cargamos df"
   ]
  },
  {
   "cell_type": "code",
   "execution_count": 12,
   "metadata": {},
   "outputs": [],
   "source": [
    "df_data_clp = pd.read_csv(\"Base de datos\\historico_copa_de_la_liga_data.csv\")\n",
    "df_data_la1819 = pd.read_csv(\"Base de datos\\liga_argentina_18_19.csv\")\n",
    "df_data_la1920 = pd.read_csv(\"Base de datos\\liga_argentina_19_20.csv\")\n",
    "df_data_la22 = pd.read_csv(\"Base de datos\\liga_argentina_2022.csv\")\n",
    "df_data_la23 = pd.read_csv(\"Base de datos\\liga_argentina_2023.csv\")\n"
   ]
  },
  {
   "cell_type": "markdown",
   "metadata": {},
   "source": [
    "Unimos todas las df historicas"
   ]
  },
  {
   "cell_type": "code",
   "execution_count": 13,
   "metadata": {},
   "outputs": [],
   "source": [
    "df_data_historica = pd.concat((df_data_clp,df_data_la1819,df_data_la1920,df_data_la22,df_data_la23 ), ignore_index=True)\n",
    "df_data_historica.to_csv(\"historico_futbo_argentino.csv\",index=False)"
   ]
  },
  {
   "cell_type": "markdown",
   "metadata": {},
   "source": [
    "Limpiando data"
   ]
  },
  {
   "cell_type": "code",
   "execution_count": 43,
   "metadata": {},
   "outputs": [
    {
     "data": {
      "text/html": [
       "<div>\n",
       "<style scoped>\n",
       "    .dataframe tbody tr th:only-of-type {\n",
       "        vertical-align: middle;\n",
       "    }\n",
       "\n",
       "    .dataframe tbody tr th {\n",
       "        vertical-align: top;\n",
       "    }\n",
       "\n",
       "    .dataframe thead th {\n",
       "        text-align: right;\n",
       "    }\n",
       "</style>\n",
       "<table border=\"1\" class=\"dataframe\">\n",
       "  <thead>\n",
       "    <tr style=\"text-align: right;\">\n",
       "      <th></th>\n",
       "      <th>local</th>\n",
       "      <th>resultado</th>\n",
       "      <th>visitante</th>\n",
       "      <th>fecha</th>\n",
       "    </tr>\n",
       "  </thead>\n",
       "  <tbody>\n",
       "    <tr>\n",
       "      <th>0</th>\n",
       "      <td>Patronato</td>\n",
       "      <td>0 -                                         1</td>\n",
       "      <td>Argentinos Juniors</td>\n",
       "      <td>regular_a_1</td>\n",
       "    </tr>\n",
       "    <tr>\n",
       "      <th>1</th>\n",
       "      <td>Sarmiento</td>\n",
       "      <td>1 -                                         0</td>\n",
       "      <td>At. Tucumán</td>\n",
       "      <td>regular_a_1</td>\n",
       "    </tr>\n",
       "    <tr>\n",
       "      <th>2</th>\n",
       "      <td>Central Córdoba (Santiago del Estero)</td>\n",
       "      <td>3 -                                         1</td>\n",
       "      <td>Barracas Central</td>\n",
       "      <td>regular_a_1</td>\n",
       "    </tr>\n",
       "    <tr>\n",
       "      <th>3</th>\n",
       "      <td>Newell´s Old Boys</td>\n",
       "      <td>1 -                                         0</td>\n",
       "      <td>Defensa y Justicia</td>\n",
       "      <td>regular_a_1</td>\n",
       "    </tr>\n",
       "    <tr>\n",
       "      <th>4</th>\n",
       "      <td>Arsenal de Sarandí</td>\n",
       "      <td>1 -                                         1</td>\n",
       "      <td>Rosario Central</td>\n",
       "      <td>regular_a_1</td>\n",
       "    </tr>\n",
       "    <tr>\n",
       "      <th>...</th>\n",
       "      <td>...</td>\n",
       "      <td>...</td>\n",
       "      <td>...</td>\n",
       "      <td>...</td>\n",
       "    </tr>\n",
       "    <tr>\n",
       "      <th>1681</th>\n",
       "      <td>Argentinos Juniors</td>\n",
       "      <td>1 -                                         0</td>\n",
       "      <td>Colón de Santa Fe</td>\n",
       "      <td>regular_a_25</td>\n",
       "    </tr>\n",
       "    <tr>\n",
       "      <th>1682</th>\n",
       "      <td>Central Córdoba (Santiago del Estero)</td>\n",
       "      <td>0 -                                         1</td>\n",
       "      <td>Independiente</td>\n",
       "      <td>regular_a_25</td>\n",
       "    </tr>\n",
       "    <tr>\n",
       "      <th>1683</th>\n",
       "      <td>Arsenal de Sarandí</td>\n",
       "      <td>0 -                                         2</td>\n",
       "      <td>I. Córdoba</td>\n",
       "      <td>regular_a_25</td>\n",
       "    </tr>\n",
       "    <tr>\n",
       "      <th>1684</th>\n",
       "      <td>Tigre</td>\n",
       "      <td>0 -                                         1</td>\n",
       "      <td>Barracas Central</td>\n",
       "      <td>regular_a_25</td>\n",
       "    </tr>\n",
       "    <tr>\n",
       "      <th>1685</th>\n",
       "      <td>Newell´s Old Boys</td>\n",
       "      <td>0 -                                         0</td>\n",
       "      <td>At. Tucumán</td>\n",
       "      <td>regular_a_25</td>\n",
       "    </tr>\n",
       "  </tbody>\n",
       "</table>\n",
       "<p>1686 rows × 4 columns</p>\n",
       "</div>"
      ],
      "text/plain": [
       "                                      local  \\\n",
       "0                                 Patronato   \n",
       "1                                 Sarmiento   \n",
       "2     Central Córdoba (Santiago del Estero)   \n",
       "3                         Newell´s Old Boys   \n",
       "4                        Arsenal de Sarandí   \n",
       "...                                     ...   \n",
       "1681                     Argentinos Juniors   \n",
       "1682  Central Córdoba (Santiago del Estero)   \n",
       "1683                     Arsenal de Sarandí   \n",
       "1684                                  Tigre   \n",
       "1685                      Newell´s Old Boys   \n",
       "\n",
       "                                          resultado           visitante  \\\n",
       "0     0 -                                         1  Argentinos Juniors   \n",
       "1     1 -                                         0         At. Tucumán   \n",
       "2     3 -                                         1    Barracas Central   \n",
       "3     1 -                                         0  Defensa y Justicia   \n",
       "4     1 -                                         1     Rosario Central   \n",
       "...                                             ...                 ...   \n",
       "1681  1 -                                         0   Colón de Santa Fe   \n",
       "1682  0 -                                         1       Independiente   \n",
       "1683  0 -                                         2          I. Córdoba   \n",
       "1684  0 -                                         1    Barracas Central   \n",
       "1685  0 -                                         0         At. Tucumán   \n",
       "\n",
       "             fecha  \n",
       "0      regular_a_1  \n",
       "1      regular_a_1  \n",
       "2      regular_a_1  \n",
       "3      regular_a_1  \n",
       "4      regular_a_1  \n",
       "...            ...  \n",
       "1681  regular_a_25  \n",
       "1682  regular_a_25  \n",
       "1683  regular_a_25  \n",
       "1684  regular_a_25  \n",
       "1685  regular_a_25  \n",
       "\n",
       "[1686 rows x 4 columns]"
      ]
     },
     "execution_count": 43,
     "metadata": {},
     "output_type": "execute_result"
    }
   ],
   "source": [
    "df_fixture = pd.read_csv(\"Base de datos\\main_fixture_copa_de_la_liga_2023.csv\")\n",
    "df_historico = pd.read_csv(\"Base de datos\\historico_futbo_argentino.csv\")\n",
    "df_historico"
   ]
  },
  {
   "cell_type": "markdown",
   "metadata": {},
   "source": [
    "Limpiando fixture"
   ]
  },
  {
   "cell_type": "code",
   "execution_count": 39,
   "metadata": {},
   "outputs": [],
   "source": [
    "df_fixture[\"local\"] = df_fixture[\"local\"].str.strip()\n",
    "df_fixture[\"visitante\"] = df_fixture[\"visitante\"].str.strip()\n",
    "df_fixture[\"resultado\"] = df_fixture[\"resultado\"].str.strip()\n"
   ]
  },
  {
   "cell_type": "markdown",
   "metadata": {},
   "source": [
    "Limpiando df historica"
   ]
  },
  {
   "cell_type": "code",
   "execution_count": 47,
   "metadata": {},
   "outputs": [
    {
     "data": {
      "text/html": [
       "<div>\n",
       "<style scoped>\n",
       "    .dataframe tbody tr th:only-of-type {\n",
       "        vertical-align: middle;\n",
       "    }\n",
       "\n",
       "    .dataframe tbody tr th {\n",
       "        vertical-align: top;\n",
       "    }\n",
       "\n",
       "    .dataframe thead th {\n",
       "        text-align: right;\n",
       "    }\n",
       "</style>\n",
       "<table border=\"1\" class=\"dataframe\">\n",
       "  <thead>\n",
       "    <tr style=\"text-align: right;\">\n",
       "      <th></th>\n",
       "      <th>local</th>\n",
       "      <th>resultado</th>\n",
       "      <th>visitante</th>\n",
       "      <th>fecha</th>\n",
       "    </tr>\n",
       "  </thead>\n",
       "  <tbody>\n",
       "    <tr>\n",
       "      <th>0</th>\n",
       "      <td>Patronato</td>\n",
       "      <td>0 -                                         1</td>\n",
       "      <td>Argentinos Juniors</td>\n",
       "      <td>regular_a_1</td>\n",
       "    </tr>\n",
       "    <tr>\n",
       "      <th>1</th>\n",
       "      <td>Sarmiento</td>\n",
       "      <td>1 -                                         0</td>\n",
       "      <td>At. Tucumán</td>\n",
       "      <td>regular_a_1</td>\n",
       "    </tr>\n",
       "    <tr>\n",
       "      <th>2</th>\n",
       "      <td>Central Córdoba (Santiago del Estero)</td>\n",
       "      <td>3 -                                         1</td>\n",
       "      <td>Barracas Central</td>\n",
       "      <td>regular_a_1</td>\n",
       "    </tr>\n",
       "    <tr>\n",
       "      <th>3</th>\n",
       "      <td>Newell´s Old Boys</td>\n",
       "      <td>1 -                                         0</td>\n",
       "      <td>Defensa y Justicia</td>\n",
       "      <td>regular_a_1</td>\n",
       "    </tr>\n",
       "    <tr>\n",
       "      <th>4</th>\n",
       "      <td>Arsenal de Sarandí</td>\n",
       "      <td>1 -                                         1</td>\n",
       "      <td>Rosario Central</td>\n",
       "      <td>regular_a_1</td>\n",
       "    </tr>\n",
       "    <tr>\n",
       "      <th>...</th>\n",
       "      <td>...</td>\n",
       "      <td>...</td>\n",
       "      <td>...</td>\n",
       "      <td>...</td>\n",
       "    </tr>\n",
       "    <tr>\n",
       "      <th>1681</th>\n",
       "      <td>Argentinos Juniors</td>\n",
       "      <td>1 -                                         0</td>\n",
       "      <td>Colón de Santa Fe</td>\n",
       "      <td>regular_a_25</td>\n",
       "    </tr>\n",
       "    <tr>\n",
       "      <th>1682</th>\n",
       "      <td>Central Córdoba (Santiago del Estero)</td>\n",
       "      <td>0 -                                         1</td>\n",
       "      <td>Independiente</td>\n",
       "      <td>regular_a_25</td>\n",
       "    </tr>\n",
       "    <tr>\n",
       "      <th>1683</th>\n",
       "      <td>Arsenal de Sarandí</td>\n",
       "      <td>0 -                                         2</td>\n",
       "      <td>I. Córdoba</td>\n",
       "      <td>regular_a_25</td>\n",
       "    </tr>\n",
       "    <tr>\n",
       "      <th>1684</th>\n",
       "      <td>Tigre</td>\n",
       "      <td>0 -                                         1</td>\n",
       "      <td>Barracas Central</td>\n",
       "      <td>regular_a_25</td>\n",
       "    </tr>\n",
       "    <tr>\n",
       "      <th>1685</th>\n",
       "      <td>Newell´s Old Boys</td>\n",
       "      <td>0 -                                         0</td>\n",
       "      <td>At. Tucumán</td>\n",
       "      <td>regular_a_25</td>\n",
       "    </tr>\n",
       "  </tbody>\n",
       "</table>\n",
       "<p>1686 rows × 4 columns</p>\n",
       "</div>"
      ],
      "text/plain": [
       "                                      local  \\\n",
       "0                                 Patronato   \n",
       "1                                 Sarmiento   \n",
       "2     Central Córdoba (Santiago del Estero)   \n",
       "3                         Newell´s Old Boys   \n",
       "4                        Arsenal de Sarandí   \n",
       "...                                     ...   \n",
       "1681                     Argentinos Juniors   \n",
       "1682  Central Córdoba (Santiago del Estero)   \n",
       "1683                     Arsenal de Sarandí   \n",
       "1684                                  Tigre   \n",
       "1685                      Newell´s Old Boys   \n",
       "\n",
       "                                          resultado           visitante  \\\n",
       "0     0 -                                         1  Argentinos Juniors   \n",
       "1     1 -                                         0         At. Tucumán   \n",
       "2     3 -                                         1    Barracas Central   \n",
       "3     1 -                                         0  Defensa y Justicia   \n",
       "4     1 -                                         1     Rosario Central   \n",
       "...                                             ...                 ...   \n",
       "1681  1 -                                         0   Colón de Santa Fe   \n",
       "1682  0 -                                         1       Independiente   \n",
       "1683  0 -                                         2          I. Córdoba   \n",
       "1684  0 -                                         1    Barracas Central   \n",
       "1685  0 -                                         0         At. Tucumán   \n",
       "\n",
       "             fecha  \n",
       "0      regular_a_1  \n",
       "1      regular_a_1  \n",
       "2      regular_a_1  \n",
       "3      regular_a_1  \n",
       "4      regular_a_1  \n",
       "...            ...  \n",
       "1681  regular_a_25  \n",
       "1682  regular_a_25  \n",
       "1683  regular_a_25  \n",
       "1684  regular_a_25  \n",
       "1685  regular_a_25  \n",
       "\n",
       "[1686 rows x 4 columns]"
      ]
     },
     "execution_count": 47,
     "metadata": {},
     "output_type": "execute_result"
    }
   ],
   "source": [
    "df_historico[\"resultado\"] = df_historico[\"resultado\"].str.strip()\n",
    "df_historico"
   ]
  },
  {
   "cell_type": "markdown",
   "metadata": {},
   "source": [
    "Eliminando resultados penales"
   ]
  },
  {
   "cell_type": "code",
   "execution_count": 57,
   "metadata": {},
   "outputs": [
    {
     "data": {
      "text/plain": [
       "0       True\n",
       "1       True\n",
       "2       True\n",
       "3       True\n",
       "4       True\n",
       "        ... \n",
       "1681    True\n",
       "1682    True\n",
       "1683    True\n",
       "1684    True\n",
       "1685    True\n",
       "Name: resultado, Length: 1686, dtype: bool"
      ]
     },
     "execution_count": 57,
     "metadata": {},
     "output_type": "execute_result"
    }
   ],
   "source": [
    "df_historico[\"resultado\"].str.contains('[^\\d-]')"
   ]
  },
  {
   "cell_type": "code",
   "execution_count": 59,
   "metadata": {},
   "outputs": [],
   "source": [
    "df_historico[\"resultado\"] = df_historico[\"resultado\"].str.replace('[^\\d-]','', regex=True)"
   ]
  },
  {
   "cell_type": "code",
   "execution_count": 60,
   "metadata": {},
   "outputs": [
    {
     "data": {
      "text/plain": [
       "0       0-1\n",
       "1       1-0\n",
       "2       3-1\n",
       "3       1-0\n",
       "4       1-1\n",
       "       ... \n",
       "1681    1-0\n",
       "1682    0-1\n",
       "1683    0-2\n",
       "1684    0-1\n",
       "1685    0-0\n",
       "Name: resultado, Length: 1686, dtype: object"
      ]
     },
     "execution_count": 60,
     "metadata": {},
     "output_type": "execute_result"
    }
   ],
   "source": [
    "df_historico[\"resultado\"]"
   ]
  },
  {
   "cell_type": "markdown",
   "metadata": {},
   "source": [
    "Limpiando espacios en blanco"
   ]
  },
  {
   "cell_type": "code",
   "execution_count": 64,
   "metadata": {},
   "outputs": [],
   "source": [
    "df_historico[\"local\"] = df_historico[\"local\"].str.strip()\n",
    "df_historico[\"visitante\"] = df_historico[\"visitante\"].str.strip()\n",
    "df_historico[\"resultado\"] = df_historico[\"resultado\"].str.strip()"
   ]
  },
  {
   "cell_type": "markdown",
   "metadata": {},
   "source": [
    "Separando resultado en dos columnas"
   ]
  },
  {
   "cell_type": "code",
   "execution_count": 67,
   "metadata": {},
   "outputs": [],
   "source": [
    "df_historico[['gol_local','gol_visitante']] = df_historico[\"resultado\"].str.split('-', expand=True)"
   ]
  },
  {
   "cell_type": "code",
   "execution_count": 70,
   "metadata": {},
   "outputs": [],
   "source": [
    "df_historico.drop('resultado',axis=1,inplace=True)\n",
    "df_historico.drop('fecha',axis=1,inplace=True)"
   ]
  },
  {
   "cell_type": "code",
   "execution_count": 77,
   "metadata": {},
   "outputs": [],
   "source": [
    "df_historico = df_historico.astype({'gol_local':int, 'gol_visitante': int})"
   ]
  },
  {
   "cell_type": "code",
   "execution_count": 78,
   "metadata": {},
   "outputs": [
    {
     "data": {
      "text/plain": [
       "local            object\n",
       "visitante        object\n",
       "gol_local         int32\n",
       "gol_visitante     int32\n",
       "dtype: object"
      ]
     },
     "execution_count": 78,
     "metadata": {},
     "output_type": "execute_result"
    }
   ],
   "source": [
    "df_historico.dtypes"
   ]
  },
  {
   "cell_type": "markdown",
   "metadata": {},
   "source": [
    "Exportar df limpios"
   ]
  },
  {
   "cell_type": "code",
   "execution_count": 79,
   "metadata": {},
   "outputs": [],
   "source": [
    "df_historico.to_csv('clean_historico_partidos.csv', index=False)"
   ]
  },
  {
   "cell_type": "code",
   "execution_count": 80,
   "metadata": {},
   "outputs": [],
   "source": [
    "df_fixture.to_csv('clea_fixture_2023.csv', index=False)"
   ]
  }
 ],
 "metadata": {
  "kernelspec": {
   "display_name": "Python 3",
   "language": "python",
   "name": "python3"
  },
  "language_info": {
   "codemirror_mode": {
    "name": "ipython",
    "version": 3
   },
   "file_extension": ".py",
   "mimetype": "text/x-python",
   "name": "python",
   "nbconvert_exporter": "python",
   "pygments_lexer": "ipython3",
   "version": "3.10.5"
  },
  "orig_nbformat": 4
 },
 "nbformat": 4,
 "nbformat_minor": 2
}
